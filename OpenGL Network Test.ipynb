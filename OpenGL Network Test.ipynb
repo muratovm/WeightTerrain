{
 "cells": [
  {
   "cell_type": "code",
   "execution_count": 1,
   "metadata": {},
   "outputs": [],
   "source": [
    "from visual_networks import *\n",
    "from sample_networks import *\n",
    "import torch\n",
    "\n",
    "\n",
    "# Generate some random data\n",
    "x = torch.randn(50, 10)\n",
    "\n",
    "# Initialize and run the model\n",
    "model = SimpleLinearModel()\n",
    "y_pred = model(x)\n"
   ]
  },
  {
   "cell_type": "code",
   "execution_count": 2,
   "metadata": {},
   "outputs": [
    {
     "name": "stdout",
     "output_type": "stream",
     "text": [
      "-0.17774944\n"
     ]
    }
   ],
   "source": [
    "from visual import *\n",
    "network = Network(model)  # Example: 3 layers with 3, 4, and 2 neurons respectively\n",
    "thread = Thread(target=run_glfw_window, args=(network,))\n",
    "thread.start()"
   ]
  },
  {
   "cell_type": "code",
   "execution_count": 3,
   "metadata": {},
   "outputs": [
    {
     "name": "stderr",
     "output_type": "stream",
     "text": [
      "c:\\ProgramData\\Miniconda3\\lib\\site-packages\\glfw\\__init__.py:916: GLFWError: (65544) b'Win32: Failed to register window class: Class already exists. '\n",
      "  warnings.warn(message, GLFWError)\n",
      "Exception in thread Thread-5:\n",
      "Traceback (most recent call last):\n",
      "  File \"c:\\ProgramData\\Miniconda3\\lib\\threading.py\", line 973, in _bootstrap_inner\n",
      "    self.run()\n",
      "  File \"c:\\ProgramData\\Miniconda3\\lib\\threading.py\", line 910, in run\n",
      "    self._target(*self._args, **self._kwargs)\n",
      "  File \"c:\\Users\\Michael Muratov\\Documents\\Programming\\AI\\WeightTerrain\\visual.py\", line 58, in run_glfw_window\n",
      "    if not glfw.init():\n",
      "  File \"c:\\ProgramData\\Miniconda3\\lib\\site-packages\\glfw\\__init__.py\", line 812, in init\n",
      "    res = _glfw.glfwInit()\n",
      "OSError: exception: access violation writing 0x0000000000000000\n"
     ]
    },
    {
     "ename": "Exception",
     "evalue": "GLFW could not be initialized",
     "output_type": "error",
     "traceback": [
      "\u001b[1;31m---------------------------------------------------------------------------\u001b[0m",
      "\u001b[1;31mException\u001b[0m                                 Traceback (most recent call last)",
      "Cell \u001b[1;32mIn [3], line 2\u001b[0m\n\u001b[0;32m      1\u001b[0m \u001b[38;5;28;01mfrom\u001b[39;00m \u001b[38;5;21;01mtracking_objects\u001b[39;00m \u001b[38;5;28;01mimport\u001b[39;00m \u001b[38;5;241m*\u001b[39m\n\u001b[1;32m----> 2\u001b[0m \u001b[43mtracking_object\u001b[49m\u001b[43m(\u001b[49m\u001b[43m)\u001b[49m\n",
      "File \u001b[1;32mc:\\Users\\Michael Muratov\\Documents\\Programming\\AI\\WeightTerrain\\tracking_objects.py:75\u001b[0m, in \u001b[0;36mtracking_object\u001b[1;34m()\u001b[0m\n\u001b[0;32m     73\u001b[0m \u001b[38;5;66;03m# Initialize GLFW\u001b[39;00m\n\u001b[0;32m     74\u001b[0m \u001b[38;5;28;01mif\u001b[39;00m \u001b[38;5;129;01mnot\u001b[39;00m glfw\u001b[38;5;241m.\u001b[39minit():\n\u001b[1;32m---> 75\u001b[0m     \u001b[38;5;28;01mraise\u001b[39;00m \u001b[38;5;167;01mException\u001b[39;00m(\u001b[38;5;124m\"\u001b[39m\u001b[38;5;124mGLFW could not be initialized\u001b[39m\u001b[38;5;124m\"\u001b[39m)\n\u001b[0;32m     77\u001b[0m \u001b[38;5;66;03m# Create GLFW window\u001b[39;00m\n\u001b[0;32m     78\u001b[0m window \u001b[38;5;241m=\u001b[39m glfw\u001b[38;5;241m.\u001b[39mcreate_window(window_width, window_height, \u001b[38;5;124m\"\u001b[39m\u001b[38;5;124mMy OpenGL Window\u001b[39m\u001b[38;5;124m\"\u001b[39m, \u001b[38;5;28;01mNone\u001b[39;00m, \u001b[38;5;28;01mNone\u001b[39;00m)\n",
      "\u001b[1;31mException\u001b[0m: GLFW could not be initialized"
     ]
    }
   ],
   "source": [
    "from tracking_objects import *\n",
    "tracking_object()"
   ]
  }
 ],
 "metadata": {
  "kernelspec": {
   "display_name": "Python 3 (ipykernel)",
   "language": "python",
   "name": "python3"
  },
  "language_info": {
   "codemirror_mode": {
    "name": "ipython",
    "version": 3
   },
   "file_extension": ".py",
   "mimetype": "text/x-python",
   "name": "python",
   "nbconvert_exporter": "python",
   "pygments_lexer": "ipython3",
   "version": "3.9.12"
  }
 },
 "nbformat": 4,
 "nbformat_minor": 2
}
